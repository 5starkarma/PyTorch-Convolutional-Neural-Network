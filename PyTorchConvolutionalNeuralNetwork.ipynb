{
 "cells": [
  {
   "cell_type": "code",
   "execution_count": 1,
   "metadata": {},
   "outputs": [],
   "source": [
    "# Convolutional Neural Network\n",
    "import torch\n",
    "import torch.nn as nn\n",
    "import torchvision\n",
    "import torchvision.transforms as transforms\n",
    "import matplotlib.pyplot as plt\n",
    "import numpy as np"
   ]
  },
  {
   "cell_type": "code",
   "execution_count": 2,
   "metadata": {},
   "outputs": [
    {
     "name": "stdout",
     "output_type": "stream",
     "text": [
      "Using downloaded and verified file: ./datasets\\train_32x32.mat\n"
     ]
    }
   ],
   "source": [
    "# Download training sets as tensors\n",
    "trainset = torchvision.datasets.SVHN(\n",
    "    root='./datasets', \n",
    "    split='train', \n",
    "    download=True, \n",
    "    transform=transforms.ToTensor()\n",
    ")"
   ]
  },
  {
   "cell_type": "code",
   "execution_count": 3,
   "metadata": {},
   "outputs": [],
   "source": [
    "# load data into the training set in batches\n",
    "trainloader = torch.utils.data.DataLoader(\n",
    "    trainset,\n",
    "    batch_size=8,\n",
    "    shuffle=True,\n",
    "    num_workers=2\n",
    ")"
   ]
  },
  {
   "cell_type": "code",
   "execution_count": 4,
   "metadata": {},
   "outputs": [
    {
     "name": "stdout",
     "output_type": "stream",
     "text": [
      "Using downloaded and verified file: ./datasets\\test_32x32.mat\n"
     ]
    }
   ],
   "source": [
    "# Download testing sets as tensors\n",
    "testset = torchvision.datasets.SVHN(\n",
    "    root='./datasets', \n",
    "    split='test', \n",
    "    download=True, \n",
    "    transform=transforms.ToTensor()\n",
    ")"
   ]
  },
  {
   "cell_type": "code",
   "execution_count": 5,
   "metadata": {},
   "outputs": [],
   "source": [
    "# load data into the testing set in batches. shuffle=False because it is not training.\n",
    "testloader = torch.utils.data.DataLoader(\n",
    "    testset,\n",
    "    batch_size=8,\n",
    "    shuffle=False,\n",
    "    num_workers=2\n",
    ")"
   ]
  },
  {
   "cell_type": "code",
   "execution_count": 6,
   "metadata": {},
   "outputs": [],
   "source": [
    "# load images in by calling .next() on our trainloader\n",
    "images_batch, target_batch = iter(trainloader).next()"
   ]
  },
  {
   "cell_type": "code",
   "execution_count": 7,
   "metadata": {},
   "outputs": [
    {
     "data": {
      "text/plain": [
       "torch.Size([8, 3, 32, 32])"
      ]
     },
     "execution_count": 7,
     "metadata": {},
     "output_type": "execute_result"
    }
   ],
   "source": [
    "# number of batches is 8, numbers of channels is 3 (color images), 32 x 32 images\n",
    "images_batch.shape"
   ]
  },
  {
   "cell_type": "code",
   "execution_count": 8,
   "metadata": {},
   "outputs": [],
   "source": [
    "# Use a torchvision utility to make a grid of images in this batch\n",
    "img = torchvision.utils.make_grid(images_batch)"
   ]
  },
  {
   "cell_type": "code",
   "execution_count": 9,
   "metadata": {},
   "outputs": [
    {
     "data": {
      "text/plain": [
       "torch.Size([3, 36, 274])"
      ]
     },
     "execution_count": 9,
     "metadata": {},
     "output_type": "execute_result"
    }
   ],
   "source": [
    "# 3 channels, 36 pixels high, 274 pixels wide because 8 images X 36px\n",
    "img.shape"
   ]
  },
  {
   "cell_type": "code",
   "execution_count": 10,
   "metadata": {},
   "outputs": [
    {
     "data": {
      "text/plain": [
       "torch.Size([36, 274, 3])"
      ]
     },
     "execution_count": 10,
     "metadata": {},
     "output_type": "execute_result"
    }
   ],
   "source": [
    "# in order to plot images in matplotlib the number of channels should be the last dimension\n",
    "# use the transpose function to change order of dimensions\n",
    "np.transpose(img, (1,2,0)).shape"
   ]
  },
  {
   "cell_type": "code",
   "execution_count": 11,
   "metadata": {},
   "outputs": [
    {
     "data": {
      "image/png": "[encoded data removed]",
      "text/plain": [
       "<Figure size 432x288 with 1 Axes>"
      ]
     },
     "metadata": {
      "needs_background": "light"
     },
     "output_type": "display_data"
    }
   ],
   "source": [
    "plt.imshow(np.transpose(img, (1,2,0)))\n",
    "plt.axis('off')\n",
    "plt.show()"
   ]
  },
  {
   "cell_type": "code",
   "execution_count": 12,
   "metadata": {},
   "outputs": [],
   "source": [
    "in_size = 3 # input size is 3 channels\n",
    "hid1_size = 16 # 1st convolution layer output is 16 feature maps\n",
    "hid2_size = 32 # 2nd convolution layer output is 32 feature maps\n",
    "out_size = 10 # the number of categorizes in our classification\n",
    "k_conv_size = 5 # 5x5 conv kernel for our conv layers"
   ]
  },
  {
   "cell_type": "code",
   "execution_count": 13,
   "metadata": {},
   "outputs": [],
   "source": [
    "class ConvNet(nn.Module):\n",
    "    \n",
    "    def __init__(self):\n",
    "        super(ConvNet, self).__init__()\n",
    "        \n",
    "        self.layer1 = nn.Sequential(\n",
    "            nn.Conv2d(in_size, hid1_size, k_conv_size), \n",
    "            nn.BatchNorm2d(hid1_size),\n",
    "            nn.ReLU(), \n",
    "            nn.MaxPool2d(kernel_size=2))\n",
    "        \n",
    "        self.layer2 = nn.Sequential(\n",
    "            nn.Conv2d(hid1_size, hid2_size, k_conv_size), \n",
    "            nn.BatchNorm2d(hid2_size),\n",
    "            nn.ReLU(), \n",
    "            nn.MaxPool2d(kernel_size=2))\n",
    "        \n",
    "        self.fc = nn.Linear(\n",
    "            hid2_size * k_conv_size * k_conv_size, out_size)\n",
    "        \n",
    "    def forward(self, x):\n",
    "            out = self.layer1(x)\n",
    "            out = self.layer2(out)\n",
    "            out = out.reshape(out.size(0), -1)\n",
    "            out = self.fc(out)\n",
    "            \n",
    "            return out # would normally output softmax layer"
   ]
  },
  {
   "cell_type": "code",
   "execution_count": 14,
   "metadata": {},
   "outputs": [],
   "source": [
    "model = ConvNet()"
   ]
  },
  {
   "cell_type": "code",
   "execution_count": 15,
   "metadata": {},
   "outputs": [],
   "source": [
    "learning_rate = 0.001\n",
    "\n",
    "criterion = nn.CrossEntropyLoss()\n",
    "\n",
    "optimizer = torch.optim.Adam(\n",
    "    model.parameters(), \n",
    "    lr=learning_rate)"
   ]
  },
  {
   "cell_type": "code",
   "execution_count": 17,
   "metadata": {},
   "outputs": [
    {
     "name": "stdout",
     "output_type": "stream",
     "text": [
      "Epoch [1/5], Step [2000/9158], Loss: 0.1006\n",
      "Epoch [1/5], Step [4000/9158], Loss: 1.1377\n",
      "Epoch [1/5], Step [6000/9158], Loss: 0.3345\n",
      "Epoch [1/5], Step [8000/9158], Loss: 0.7365\n",
      "Epoch [2/5], Step [2000/9158], Loss: 1.1060\n",
      "Epoch [2/5], Step [4000/9158], Loss: 0.3035\n",
      "Epoch [2/5], Step [6000/9158], Loss: 0.0944\n",
      "Epoch [2/5], Step [8000/9158], Loss: 0.3644\n",
      "Epoch [3/5], Step [2000/9158], Loss: 1.5336\n",
      "Epoch [3/5], Step [4000/9158], Loss: 0.0222\n",
      "Epoch [3/5], Step [6000/9158], Loss: 0.1543\n",
      "Epoch [3/5], Step [8000/9158], Loss: 0.1517\n",
      "Epoch [4/5], Step [2000/9158], Loss: 0.2523\n",
      "Epoch [4/5], Step [4000/9158], Loss: 0.1606\n",
      "Epoch [4/5], Step [6000/9158], Loss: 0.2783\n",
      "Epoch [4/5], Step [8000/9158], Loss: 0.4436\n",
      "Epoch [5/5], Step [2000/9158], Loss: 0.1336\n",
      "Epoch [5/5], Step [4000/9158], Loss: 0.0068\n",
      "Epoch [5/5], Step [6000/9158], Loss: 0.0206\n",
      "Epoch [5/5], Step [8000/9158], Loss: 0.0645\n"
     ]
    }
   ],
   "source": [
    "total_step = len(trainloader)\n",
    "num_epochs = 5\n",
    "\n",
    "for epoch in range(num_epochs):\n",
    "    for i, (images, targets) in enumerate(trainloader):\n",
    "        \n",
    "        outputs = model(images)\n",
    "        loss = criterion(outputs, targets)\n",
    "        \n",
    "        optimizer.zero_grad()\n",
    "        loss.backward()\n",
    "        optimizer.step()\n",
    "        \n",
    "        if (i+1) % 2000 == 0:\n",
    "            print('Epoch [{}/{}], Step [{}/{}], Loss: {:.4f}'.format(\n",
    "                epoch+1, num_epochs, i+1, total_step, loss.item()))"
   ]
  },
  {
   "cell_type": "code",
   "execution_count": 18,
   "metadata": {},
   "outputs": [
    {
     "name": "stdout",
     "output_type": "stream",
     "text": [
      "Accuracy of the model on the test images: 88.27980946527352%\n"
     ]
    }
   ],
   "source": [
    "# set model to evaluation or prediction mode\n",
    "model.eval()\n",
    "with torch.no_grad():\n",
    "    correct = 0\n",
    "    total = 0\n",
    "    for images, targets in testloader:\n",
    "        outputs = model(images)\n",
    "        _, predicted = torch.max(outputs.data, 1)\n",
    "        total += targets.size(0)\n",
    "        correct += (\n",
    "            predicted == targets).sum().item()\n",
    "    print('Accuracy of the model on the test images: {}%'.format(\n",
    "        100 * correct / total))"
   ]
  }
 ],
 "metadata": {
  "kernelspec": {
   "display_name": "Python 3",
   "language": "python",
   "name": "python3"
  },
  "language_info": {
   "codemirror_mode": {
    "name": "ipython",
    "version": 3
   },
   "file_extension": ".py",
   "mimetype": "text/x-python",
   "name": "python",
   "nbconvert_exporter": "python",
   "pygments_lexer": "ipython3",
   "version": "3.7.3"
  }
 },
 "nbformat": 4,
 "nbformat_minor": 2
}
